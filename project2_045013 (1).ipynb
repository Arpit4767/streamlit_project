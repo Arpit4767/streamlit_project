{
 "cells": [
  {
   "cell_type": "code",
   "execution_count": 19,
   "metadata": {},
   "outputs": [],
   "source": [
    "import streamlit as st\n",
    "import pandas as pd\n",
    "import matplotlib.pyplot as plt"
   ]
  },
  {
   "cell_type": "code",
   "execution_count": 20,
   "metadata": {},
   "outputs": [],
   "source": [
    "import plotly.express as px  # Make sure to include this import statement"
   ]
  },
  {
   "cell_type": "markdown",
   "metadata": {},
   "source": [
    "st.write(\"Hello World!\")<br>\n",
    "st.write(\"Hello Streamlit!\")"
   ]
  },
  {
   "cell_type": "markdown",
   "metadata": {},
   "source": [
    "ead in the file"
   ]
  },
  {
   "cell_type": "code",
   "execution_count": 21,
   "metadata": {},
   "outputs": [],
   "source": [
    "movies_data = pd.read_csv(\"https://raw.githubusercontent.com/danielgrijalva/movie-stats/7c6a562377ab5c91bb80c405be50a0494ae8e582/movies.csv\")"
   ]
  },
  {
   "cell_type": "code",
   "execution_count": 22,
   "metadata": {},
   "outputs": [
    {
     "name": "stdout",
     "output_type": "stream",
     "text": [
      "<class 'pandas.core.frame.DataFrame'>\n",
      "RangeIndex: 7668 entries, 0 to 7667\n",
      "Data columns (total 15 columns):\n",
      " #   Column    Non-Null Count  Dtype  \n",
      "---  ------    --------------  -----  \n",
      " 0   name      7668 non-null   object \n",
      " 1   rating    7591 non-null   object \n",
      " 2   genre     7668 non-null   object \n",
      " 3   year      7668 non-null   int64  \n",
      " 4   released  7666 non-null   object \n",
      " 5   score     7665 non-null   float64\n",
      " 6   votes     7665 non-null   float64\n",
      " 7   director  7668 non-null   object \n",
      " 8   writer    7665 non-null   object \n",
      " 9   star      7667 non-null   object \n",
      " 10  country   7665 non-null   object \n",
      " 11  budget    5497 non-null   float64\n",
      " 12  gross     7479 non-null   float64\n",
      " 13  company   7651 non-null   object \n",
      " 14  runtime   7664 non-null   float64\n",
      "dtypes: float64(5), int64(1), object(9)\n",
      "memory usage: 898.7+ KB\n"
     ]
    }
   ],
   "source": [
    "movies_data.info()"
   ]
  },
  {
   "cell_type": "code",
   "execution_count": 23,
   "metadata": {},
   "outputs": [
    {
     "data": {
      "text/plain": [
       "0       False\n",
       "1       False\n",
       "2       False\n",
       "3       False\n",
       "4       False\n",
       "        ...  \n",
       "7663    False\n",
       "7664    False\n",
       "7665    False\n",
       "7666    False\n",
       "7667    False\n",
       "Length: 7668, dtype: bool"
      ]
     },
     "execution_count": 23,
     "metadata": {},
     "output_type": "execute_result"
    }
   ],
   "source": [
    "movies_data.duplicated()"
   ]
  },
  {
   "cell_type": "code",
   "execution_count": 24,
   "metadata": {},
   "outputs": [
    {
     "data": {
      "text/plain": [
       "name        7668\n",
       "rating      7591\n",
       "genre       7668\n",
       "year        7668\n",
       "released    7666\n",
       "score       7665\n",
       "votes       7665\n",
       "director    7668\n",
       "writer      7665\n",
       "star        7667\n",
       "country     7665\n",
       "budget      5497\n",
       "gross       7479\n",
       "company     7651\n",
       "runtime     7664\n",
       "dtype: int64"
      ]
     },
     "execution_count": 24,
     "metadata": {},
     "output_type": "execute_result"
    }
   ],
   "source": [
    "movies_data.count()"
   ]
  },
  {
   "cell_type": "code",
   "execution_count": 25,
   "metadata": {},
   "outputs": [
    {
     "data": {
      "text/html": [
       "<div>\n",
       "<style scoped>\n",
       "    .dataframe tbody tr th:only-of-type {\n",
       "        vertical-align: middle;\n",
       "    }\n",
       "\n",
       "    .dataframe tbody tr th {\n",
       "        vertical-align: top;\n",
       "    }\n",
       "\n",
       "    .dataframe thead th {\n",
       "        text-align: right;\n",
       "    }\n",
       "</style>\n",
       "<table border=\"1\" class=\"dataframe\">\n",
       "  <thead>\n",
       "    <tr style=\"text-align: right;\">\n",
       "      <th></th>\n",
       "      <th>name</th>\n",
       "      <th>rating</th>\n",
       "      <th>genre</th>\n",
       "      <th>year</th>\n",
       "      <th>released</th>\n",
       "      <th>score</th>\n",
       "      <th>votes</th>\n",
       "      <th>director</th>\n",
       "      <th>writer</th>\n",
       "      <th>star</th>\n",
       "      <th>country</th>\n",
       "      <th>budget</th>\n",
       "      <th>gross</th>\n",
       "      <th>company</th>\n",
       "      <th>runtime</th>\n",
       "    </tr>\n",
       "  </thead>\n",
       "  <tbody>\n",
       "    <tr>\n",
       "      <th>0</th>\n",
       "      <td>The Shining</td>\n",
       "      <td>R</td>\n",
       "      <td>Drama</td>\n",
       "      <td>1980</td>\n",
       "      <td>June 13, 1980 (United States)</td>\n",
       "      <td>8.4</td>\n",
       "      <td>927000.0</td>\n",
       "      <td>Stanley Kubrick</td>\n",
       "      <td>Stephen King</td>\n",
       "      <td>Jack Nicholson</td>\n",
       "      <td>United Kingdom</td>\n",
       "      <td>19000000.0</td>\n",
       "      <td>46998772.0</td>\n",
       "      <td>Warner Bros.</td>\n",
       "      <td>146.0</td>\n",
       "    </tr>\n",
       "    <tr>\n",
       "      <th>1</th>\n",
       "      <td>The Blue Lagoon</td>\n",
       "      <td>R</td>\n",
       "      <td>Adventure</td>\n",
       "      <td>1980</td>\n",
       "      <td>July 2, 1980 (United States)</td>\n",
       "      <td>5.8</td>\n",
       "      <td>65000.0</td>\n",
       "      <td>Randal Kleiser</td>\n",
       "      <td>Henry De Vere Stacpoole</td>\n",
       "      <td>Brooke Shields</td>\n",
       "      <td>United States</td>\n",
       "      <td>4500000.0</td>\n",
       "      <td>58853106.0</td>\n",
       "      <td>Columbia Pictures</td>\n",
       "      <td>104.0</td>\n",
       "    </tr>\n",
       "    <tr>\n",
       "      <th>2</th>\n",
       "      <td>Star Wars: Episode V - The Empire Strikes Back</td>\n",
       "      <td>PG</td>\n",
       "      <td>Action</td>\n",
       "      <td>1980</td>\n",
       "      <td>June 20, 1980 (United States)</td>\n",
       "      <td>8.7</td>\n",
       "      <td>1200000.0</td>\n",
       "      <td>Irvin Kershner</td>\n",
       "      <td>Leigh Brackett</td>\n",
       "      <td>Mark Hamill</td>\n",
       "      <td>United States</td>\n",
       "      <td>18000000.0</td>\n",
       "      <td>538375067.0</td>\n",
       "      <td>Lucasfilm</td>\n",
       "      <td>124.0</td>\n",
       "    </tr>\n",
       "    <tr>\n",
       "      <th>3</th>\n",
       "      <td>Airplane!</td>\n",
       "      <td>PG</td>\n",
       "      <td>Comedy</td>\n",
       "      <td>1980</td>\n",
       "      <td>July 2, 1980 (United States)</td>\n",
       "      <td>7.7</td>\n",
       "      <td>221000.0</td>\n",
       "      <td>Jim Abrahams</td>\n",
       "      <td>Jim Abrahams</td>\n",
       "      <td>Robert Hays</td>\n",
       "      <td>United States</td>\n",
       "      <td>3500000.0</td>\n",
       "      <td>83453539.0</td>\n",
       "      <td>Paramount Pictures</td>\n",
       "      <td>88.0</td>\n",
       "    </tr>\n",
       "    <tr>\n",
       "      <th>4</th>\n",
       "      <td>Caddyshack</td>\n",
       "      <td>R</td>\n",
       "      <td>Comedy</td>\n",
       "      <td>1980</td>\n",
       "      <td>July 25, 1980 (United States)</td>\n",
       "      <td>7.3</td>\n",
       "      <td>108000.0</td>\n",
       "      <td>Harold Ramis</td>\n",
       "      <td>Brian Doyle-Murray</td>\n",
       "      <td>Chevy Chase</td>\n",
       "      <td>United States</td>\n",
       "      <td>6000000.0</td>\n",
       "      <td>39846344.0</td>\n",
       "      <td>Orion Pictures</td>\n",
       "      <td>98.0</td>\n",
       "    </tr>\n",
       "    <tr>\n",
       "      <th>...</th>\n",
       "      <td>...</td>\n",
       "      <td>...</td>\n",
       "      <td>...</td>\n",
       "      <td>...</td>\n",
       "      <td>...</td>\n",
       "      <td>...</td>\n",
       "      <td>...</td>\n",
       "      <td>...</td>\n",
       "      <td>...</td>\n",
       "      <td>...</td>\n",
       "      <td>...</td>\n",
       "      <td>...</td>\n",
       "      <td>...</td>\n",
       "      <td>...</td>\n",
       "      <td>...</td>\n",
       "    </tr>\n",
       "    <tr>\n",
       "      <th>7648</th>\n",
       "      <td>Bad Boys for Life</td>\n",
       "      <td>R</td>\n",
       "      <td>Action</td>\n",
       "      <td>2020</td>\n",
       "      <td>January 17, 2020 (United States)</td>\n",
       "      <td>6.6</td>\n",
       "      <td>140000.0</td>\n",
       "      <td>Adil El Arbi</td>\n",
       "      <td>Peter Craig</td>\n",
       "      <td>Will Smith</td>\n",
       "      <td>United States</td>\n",
       "      <td>90000000.0</td>\n",
       "      <td>426505244.0</td>\n",
       "      <td>Columbia Pictures</td>\n",
       "      <td>124.0</td>\n",
       "    </tr>\n",
       "    <tr>\n",
       "      <th>7649</th>\n",
       "      <td>Sonic the Hedgehog</td>\n",
       "      <td>PG</td>\n",
       "      <td>Action</td>\n",
       "      <td>2020</td>\n",
       "      <td>February 14, 2020 (United States)</td>\n",
       "      <td>6.5</td>\n",
       "      <td>102000.0</td>\n",
       "      <td>Jeff Fowler</td>\n",
       "      <td>Pat Casey</td>\n",
       "      <td>Ben Schwartz</td>\n",
       "      <td>United States</td>\n",
       "      <td>85000000.0</td>\n",
       "      <td>319715683.0</td>\n",
       "      <td>Paramount Pictures</td>\n",
       "      <td>99.0</td>\n",
       "    </tr>\n",
       "    <tr>\n",
       "      <th>7650</th>\n",
       "      <td>Dolittle</td>\n",
       "      <td>PG</td>\n",
       "      <td>Adventure</td>\n",
       "      <td>2020</td>\n",
       "      <td>January 17, 2020 (United States)</td>\n",
       "      <td>5.6</td>\n",
       "      <td>53000.0</td>\n",
       "      <td>Stephen Gaghan</td>\n",
       "      <td>Stephen Gaghan</td>\n",
       "      <td>Robert Downey Jr.</td>\n",
       "      <td>United States</td>\n",
       "      <td>175000000.0</td>\n",
       "      <td>245487753.0</td>\n",
       "      <td>Universal Pictures</td>\n",
       "      <td>101.0</td>\n",
       "    </tr>\n",
       "    <tr>\n",
       "      <th>7651</th>\n",
       "      <td>The Call of the Wild</td>\n",
       "      <td>PG</td>\n",
       "      <td>Adventure</td>\n",
       "      <td>2020</td>\n",
       "      <td>February 21, 2020 (United States)</td>\n",
       "      <td>6.8</td>\n",
       "      <td>42000.0</td>\n",
       "      <td>Chris Sanders</td>\n",
       "      <td>Michael Green</td>\n",
       "      <td>Harrison Ford</td>\n",
       "      <td>Canada</td>\n",
       "      <td>135000000.0</td>\n",
       "      <td>111105497.0</td>\n",
       "      <td>20th Century Studios</td>\n",
       "      <td>100.0</td>\n",
       "    </tr>\n",
       "    <tr>\n",
       "      <th>7652</th>\n",
       "      <td>The Eight Hundred</td>\n",
       "      <td>Not Rated</td>\n",
       "      <td>Action</td>\n",
       "      <td>2020</td>\n",
       "      <td>August 28, 2020 (United States)</td>\n",
       "      <td>6.8</td>\n",
       "      <td>3700.0</td>\n",
       "      <td>Hu Guan</td>\n",
       "      <td>Hu Guan</td>\n",
       "      <td>Zhi-zhong Huang</td>\n",
       "      <td>China</td>\n",
       "      <td>80000000.0</td>\n",
       "      <td>461421559.0</td>\n",
       "      <td>Beijing Diqi Yinxiang Entertainment</td>\n",
       "      <td>149.0</td>\n",
       "    </tr>\n",
       "  </tbody>\n",
       "</table>\n",
       "<p>5421 rows × 15 columns</p>\n",
       "</div>"
      ],
      "text/plain": [
       "                                                name     rating      genre  \\\n",
       "0                                        The Shining          R      Drama   \n",
       "1                                    The Blue Lagoon          R  Adventure   \n",
       "2     Star Wars: Episode V - The Empire Strikes Back         PG     Action   \n",
       "3                                          Airplane!         PG     Comedy   \n",
       "4                                         Caddyshack          R     Comedy   \n",
       "...                                              ...        ...        ...   \n",
       "7648                               Bad Boys for Life          R     Action   \n",
       "7649                              Sonic the Hedgehog         PG     Action   \n",
       "7650                                        Dolittle         PG  Adventure   \n",
       "7651                            The Call of the Wild         PG  Adventure   \n",
       "7652                               The Eight Hundred  Not Rated     Action   \n",
       "\n",
       "      year                           released  score      votes  \\\n",
       "0     1980      June 13, 1980 (United States)    8.4   927000.0   \n",
       "1     1980       July 2, 1980 (United States)    5.8    65000.0   \n",
       "2     1980      June 20, 1980 (United States)    8.7  1200000.0   \n",
       "3     1980       July 2, 1980 (United States)    7.7   221000.0   \n",
       "4     1980      July 25, 1980 (United States)    7.3   108000.0   \n",
       "...    ...                                ...    ...        ...   \n",
       "7648  2020   January 17, 2020 (United States)    6.6   140000.0   \n",
       "7649  2020  February 14, 2020 (United States)    6.5   102000.0   \n",
       "7650  2020   January 17, 2020 (United States)    5.6    53000.0   \n",
       "7651  2020  February 21, 2020 (United States)    6.8    42000.0   \n",
       "7652  2020    August 28, 2020 (United States)    6.8     3700.0   \n",
       "\n",
       "             director                   writer               star  \\\n",
       "0     Stanley Kubrick             Stephen King     Jack Nicholson   \n",
       "1      Randal Kleiser  Henry De Vere Stacpoole     Brooke Shields   \n",
       "2      Irvin Kershner           Leigh Brackett        Mark Hamill   \n",
       "3        Jim Abrahams             Jim Abrahams        Robert Hays   \n",
       "4        Harold Ramis       Brian Doyle-Murray        Chevy Chase   \n",
       "...               ...                      ...                ...   \n",
       "7648     Adil El Arbi              Peter Craig         Will Smith   \n",
       "7649      Jeff Fowler                Pat Casey       Ben Schwartz   \n",
       "7650   Stephen Gaghan           Stephen Gaghan  Robert Downey Jr.   \n",
       "7651    Chris Sanders            Michael Green      Harrison Ford   \n",
       "7652          Hu Guan                  Hu Guan    Zhi-zhong Huang   \n",
       "\n",
       "             country       budget        gross  \\\n",
       "0     United Kingdom   19000000.0   46998772.0   \n",
       "1      United States    4500000.0   58853106.0   \n",
       "2      United States   18000000.0  538375067.0   \n",
       "3      United States    3500000.0   83453539.0   \n",
       "4      United States    6000000.0   39846344.0   \n",
       "...              ...          ...          ...   \n",
       "7648   United States   90000000.0  426505244.0   \n",
       "7649   United States   85000000.0  319715683.0   \n",
       "7650   United States  175000000.0  245487753.0   \n",
       "7651          Canada  135000000.0  111105497.0   \n",
       "7652           China   80000000.0  461421559.0   \n",
       "\n",
       "                                  company  runtime  \n",
       "0                            Warner Bros.    146.0  \n",
       "1                       Columbia Pictures    104.0  \n",
       "2                               Lucasfilm    124.0  \n",
       "3                      Paramount Pictures     88.0  \n",
       "4                          Orion Pictures     98.0  \n",
       "...                                   ...      ...  \n",
       "7648                    Columbia Pictures    124.0  \n",
       "7649                   Paramount Pictures     99.0  \n",
       "7650                   Universal Pictures    101.0  \n",
       "7651                 20th Century Studios    100.0  \n",
       "7652  Beijing Diqi Yinxiang Entertainment    149.0  \n",
       "\n",
       "[5421 rows x 15 columns]"
      ]
     },
     "execution_count": 25,
     "metadata": {},
     "output_type": "execute_result"
    }
   ],
   "source": [
    "movies_data.dropna()"
   ]
  },
  {
   "cell_type": "markdown",
   "metadata": {},
   "source": [
    "st.write(\n",
    "<br>\n",
    "Average Movie Budget, Grouped by Genre<br>\n"
   ]
  },
  {
   "cell_type": "code",
   "execution_count": 26,
   "metadata": {},
   "outputs": [],
   "source": [
    "avg_budget = movies_data.groupby('genre')['budget'].mean().round()\n",
    "avg_budget = avg_budget.reset_index()\n",
    "genre = avg_budget['genre']\n",
    "avg_bud = avg_budget['budget']"
   ]
  },
  {
   "cell_type": "code",
   "execution_count": 27,
   "metadata": {},
   "outputs": [],
   "source": [
    "fig = plt.figure(figsize = (19, 10))"
   ]
  },
  {
   "cell_type": "code",
   "execution_count": 28,
   "metadata": {},
   "outputs": [
    {
     "data": {
      "text/plain": [
       "Text(0.5, 1.0, 'Matplotlib Bar Chart Showing the Average Budget of Movies in Each Genre')"
      ]
     },
     "execution_count": 28,
     "metadata": {},
     "output_type": "execute_result"
    }
   ],
   "source": [
    "plt.bar(genre, avg_bud, color = 'maroon')\n",
    "plt.xlabel('genre')\n",
    "plt.ylabel('budget')\n",
    "plt.title('Matplotlib Bar Chart Showing the Average \\\n",
    "Budget of Movies in Each Genre')"
   ]
  },
  {
   "cell_type": "code",
   "execution_count": 29,
   "metadata": {},
   "outputs": [
    {
     "data": {
      "text/plain": [
       "DeltaGenerator()"
      ]
     },
     "execution_count": 29,
     "metadata": {},
     "output_type": "execute_result"
    }
   ],
   "source": [
    "st.pyplot(fig)"
   ]
  },
  {
   "cell_type": "markdown",
   "metadata": {},
   "source": [
    "Creating sidebar widget unique values from our movies dataset"
   ]
  },
  {
   "cell_type": "code",
   "execution_count": 30,
   "metadata": {},
   "outputs": [],
   "source": [
    "score_rating = movies_data['score'].unique().tolist()\n",
    "genre_list = movies_data['genre'].unique().tolist()\n",
    "year_list = movies_data['year'].unique().tolist()"
   ]
  },
  {
   "cell_type": "code",
   "execution_count": 31,
   "metadata": {},
   "outputs": [],
   "source": [
    "with st.sidebar:\n",
    "    st.write(\"Select a range on the slider (it represents movie score) \\\n",
    "       to view the total number of movies in a genre that falls \\\n",
    "       within that range \")\n",
    "    #create a slider to hold user scores\n",
    "    new_score_rating = st.slider(label = \"Choose a value:\",\n",
    "                                  min_value = 1.0,\n",
    "                                  max_value = 10.0,\n",
    "                                 value = (3.0,4.0))"
   ]
  },
  {
   "cell_type": "markdown",
   "metadata": {},
   "source": [
    "reate a multiselect widget to display genre"
   ]
  },
  {
   "cell_type": "code",
   "execution_count": 32,
   "metadata": {},
   "outputs": [],
   "source": [
    "    new_genre_list = st.multiselect('Choose Genre:',\n",
    "                                        genre_list, default = ['Animation',\\\n",
    "                                         'Horror',  'Fantasy', 'Romance'])\n",
    "#create a selectbox option that holds all unique years\n",
    "    year = st.selectbox('Choose a Year',\n",
    "        year_list, 0)"
   ]
  },
  {
   "cell_type": "markdown",
   "metadata": {},
   "source": [
    "onfigure and filter the slider widget for interactivity"
   ]
  },
  {
   "cell_type": "code",
   "execution_count": 33,
   "metadata": {},
   "outputs": [],
   "source": [
    "score_info = (movies_data['score'].between(*new_score_rating))"
   ]
  },
  {
   "cell_type": "markdown",
   "metadata": {},
   "source": [
    "ilter the selectbox and multiselect widget for interactivity"
   ]
  },
  {
   "cell_type": "code",
   "execution_count": 34,
   "metadata": {},
   "outputs": [],
   "source": [
    "new_genre_year = (movies_data['genre'].isin(new_genre_list)) \\\n",
    "& (movies_data['year'] == year)"
   ]
  },
  {
   "cell_type": "markdown",
   "metadata": {},
   "source": [
    "visualization section<br>\n",
    "roup the columns needed for visualizations"
   ]
  },
  {
   "cell_type": "code",
   "execution_count": 35,
   "metadata": {},
   "outputs": [],
   "source": [
    "col1, col2 = st.columns([2,3])\n",
    "with col1:\n",
    "    st.write(\"\"\"#### Lists of movies filtered by year and Genre \"\"\")\n",
    "    dataframe_genre_year = movies_data[new_genre_year]\\\n",
    "    .groupby(['name',  'genre'])['year'].sum()\n",
    "    dataframe_genre_year = dataframe_genre_year.reset_index()\n",
    "    st.dataframe(dataframe_genre_year, width = 400)"
   ]
  },
  {
   "cell_type": "code",
   "execution_count": 36,
   "metadata": {},
   "outputs": [],
   "source": [
    "with col2:\n",
    "    st.write(\"\"\"#### User score of movies and their genre \"\"\")\n",
    "    rating_count_year = movies_data[score_info]\\\n",
    "    .groupby('genre')['score'].count()\n",
    "    rating_count_year = rating_count_year.reset_index()\n",
    "    figpx = px.line(rating_count_year, x = 'genre', y = 'score')\n",
    "    st.plotly_chart(figpx)"
   ]
  },
  {
   "cell_type": "markdown",
   "metadata": {},
   "source": [
    "**Objective:**\n",
    "\n",
    "The primary objective of this code is to perform an in-depth analysis of a movies dataset using Streamlit, Pandas, and Plotly. It seeks to uncover patterns related to movie budgets, scores, and genres, providing interactive tools for users to explore the data dynamically.\n",
    "\n",
    "**Findings:**\n",
    "\n",
    "**Dataset Overview:**\n",
    "\n",
    "The dataset, loaded from a CSV file, comprises various attributes, including movie names, genres, budgets, scores, and release years.\n",
    "Initial exploratory data analysis (EDA) using movies_data.info() reveals the structure and datatypes of the dataset.\n",
    "Average Budgets per Genre:\n",
    "\n",
    "Average budgets for each genre are calculated using the groupby function on the 'genre' column, and the results are rounded for clarity.\n",
    "The average budget per genre is then displayed in a static matplotlib plot (fig) with genres on the x-axis and average budgets on the y-axis.\n",
    "This visual representation provides a quick overview of the financial investment associated with different genres.\n",
    "User Interaction via Sidebar:\n",
    "\n",
    "A Streamlit sidebar is introduced to enhance user interaction.\n",
    "Users can filter movies based on their score using a slider (new_score_rating) and choose specific genres and release years.\n",
    "Movies Filtered by Genre and Year:\n",
    "\n",
    "Two columns (col1 and col2) in the main section of the Streamlit app are dedicated to presenting specific information based on user choices.\n",
    "In col1, a list of movies is displayed, filtered by the selected genre and release year. The resulting DataFrame (dataframe_genre_year) includes columns for movie names, genres, and release years.\n",
    "This section allows users to quickly identify and explore movies within their preferred genre and release year.\n",
    "User Score Distribution Across Genres:\n",
    "\n",
    "In col2, a dynamic Plotly chart (figpx) is generated to showcase the distribution of user scores across different genres.\n",
    "The chart is interactive, allowing users to zoom in and out, providing a more granular view of how scores are distributed within each genre.\n",
    "The x-axis represents genres, and the y-axis represents the count of movies falling within the selected score range.\n",
    "Observations:\n",
    "\n",
    "**Budget Insights:**\n",
    "\n",
    "The initial static matplotlib plot shows the average budgets for each genre. Genres like 'Fantasy' and 'Adventure' tend to have higher average budgets, indicating that these genres might require significant financial investments in production.\n",
    "User Interaction:\n",
    "\n",
    "The introduction of the sidebar and interactive elements allows users to customize their exploration of the dataset. This is crucial for researchers, analysts, and industry professionals looking for specific insights.\n",
    "Filtered Movie Lists:\n",
    "\n",
    "The list of movies displayed in col1 provides a detailed overview of movies within the chosen genre and year. This can assist in identifying trends and patterns specific to certain time periods or genres.\n",
    "User Score Distribution:\n",
    "\n",
    "The dynamic Plotly chart in col2 dynamically illustrates how user scores are distributed across genres. Users can adjust the score range using the sidebar slider, gaining insights into audience preferences for movies with specific score ranges.\n",
    "Managerial Implications:\n",
    "\n",
    "**Budget Allocation Strategy:**\n",
    "\n",
    "Managers can utilize the average budget per genre insights to formulate strategies for budget allocation. This aids in making informed decisions on resource distribution and financial planning for upcoming projects.\n",
    "User Engagement Strategies:\n",
    "\n",
    "The user interaction features of the Streamlit app provide a valuable tool for market research. Industry professionals can use this to tailor their content based on user preferences in terms of scores, genres, and release years.\n",
    "Content Planning:\n",
    "\n",
    "The dynamic Plotly chart is particularly useful for content planning. It allows content creators to understand the distribution of user scores within genres, assisting in the creation of content that aligns with audience expectations.\n",
    "Audience Trends:\n",
    "\n",
    "The interactive nature of the Streamlit app facilitates the identification of audience trends. For instance, if there is a surge in the popularity of certain genres within specific score ranges, content creators can capitalize on these trends.\n",
    "Decision Support System:\n",
    "\n",
    "**Conclusion**\n",
    "\n",
    "Overall, this Streamlit app can function as a decision support system, aiding managers and content creators in making data-driven decisions. The ability to interact with the data in real-time enhances the decision-making process.\n",
    "In conclusion, this code and Streamlit app provide a powerful platform for analyzing and visualizing movies data. The integration of user interaction features makes it a versatile tool for both exploratory data analysis and strategic decision-making in the entertainment industry. Managers and content creators can leverage the insights gained from this analysis to optimize resource utilization and better cater to audience preferences."
   ]
  }
 ],
 "metadata": {
  "kernelspec": {
   "display_name": "Python 3 (ipykernel)",
   "language": "python",
   "name": "python3"
  },
  "language_info": {
   "codemirror_mode": {
    "name": "ipython",
    "version": 3
   },
   "file_extension": ".py",
   "mimetype": "text/x-python",
   "name": "python",
   "nbconvert_exporter": "python",
   "pygments_lexer": "ipython3",
   "version": "3.11.3"
  }
 },
 "nbformat": 4,
 "nbformat_minor": 4
}
